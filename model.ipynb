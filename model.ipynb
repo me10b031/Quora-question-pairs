{
  "nbformat": 4,
  "nbformat_minor": 0,
  "metadata": {
    "colab": {
      "name": "model.ipynb",
      "provenance": [],
      "collapsed_sections": []
    },
    "kernelspec": {
      "name": "python3",
      "display_name": "Python 3"
    },
    "accelerator": "GPU"
  },
  "cells": [
    {
      "cell_type": "code",
      "metadata": {
        "id": "wkfGYtqUFCsV",
        "colab_type": "code",
        "colab": {
          "base_uri": "https://localhost:8080/",
          "height": 34
        },
        "outputId": "e84f3750-e7e9-4d48-9b42-bcbdbbef24c9"
      },
      "source": [
        "from google.colab import drive\n",
        "drive.mount('/content/drive')"
      ],
      "execution_count": null,
      "outputs": [
        {
          "output_type": "stream",
          "text": [
            "Drive already mounted at /content/drive; to attempt to forcibly remount, call drive.mount(\"/content/drive\", force_remount=True).\n"
          ],
          "name": "stdout"
        }
      ]
    },
    {
      "cell_type": "code",
      "metadata": {
        "id": "jlWR3GefFUVm",
        "colab_type": "code",
        "colab": {}
      },
      "source": [
        "\n",
        "import numpy as np\n",
        "import pandas as pd\n",
        "import matplotlib.pyplot as plt\n",
        "#import seasborn as sns\n",
        "%matplotlib inline\n",
        "\n"
      ],
      "execution_count": null,
      "outputs": []
    },
    {
      "cell_type": "code",
      "metadata": {
        "id": "XLh_Oxitf4QP",
        "colab_type": "code",
        "colab": {}
      },
      "source": [
        "from keras.preprocessing.text import Tokenizer\n",
        "from keras.preprocessing.sequence import pad_sequences\n",
        "from keras.layers import Dense, Input, LSTM, Embedding, Dropout, Activation,Bidirectional, Lambda, Dot\n",
        "from keras.layers.merge import concatenate\n",
        "from keras.models import Model\n",
        "from keras.layers.normalization import BatchNormalization\n",
        "from keras.callbacks import EarlyStopping, ModelCheckpoint\n",
        "from sklearn.preprocessing import StandardScaler\n",
        "from keras.activations import softmax\n",
        "from keras.layers import Bidirectional,dot, Reshape, add, BatchNormalization, concatenate,Flatten\n",
        "from keras.layers import Lambda, Permute, Concatenate, Multiply,GlobalAvgPool1D,GlobalMaxPool1D\n",
        "from keras import backend as K"
      ],
      "execution_count": null,
      "outputs": []
    },
    {
      "cell_type": "markdown",
      "metadata": {
        "id": "dYDSPCL8NRz0",
        "colab_type": "text"
      },
      "source": [
        "Initial Data Visualization"
      ]
    },
    {
      "cell_type": "code",
      "metadata": {
        "id": "m4Wv2tuMGq7z",
        "colab_type": "code",
        "colab": {
          "base_uri": "https://localhost:8080/",
          "height": 195
        },
        "outputId": "ac718f3f-39a2-4b69-8583-9a54f02841cc"
      },
      "source": [
        "train  = pd.read_csv(\"train.csv\").fillna(\"\")\n",
        "train.head()\n",
        "test = pd.read_csv(\"test.csv\").fillna(\"\")\n",
        "test.head()"
      ],
      "execution_count": null,
      "outputs": [
        {
          "output_type": "execute_result",
          "data": {
            "text/html": [
              "<div>\n",
              "<style scoped>\n",
              "    .dataframe tbody tr th:only-of-type {\n",
              "        vertical-align: middle;\n",
              "    }\n",
              "\n",
              "    .dataframe tbody tr th {\n",
              "        vertical-align: top;\n",
              "    }\n",
              "\n",
              "    .dataframe thead th {\n",
              "        text-align: right;\n",
              "    }\n",
              "</style>\n",
              "<table border=\"1\" class=\"dataframe\">\n",
              "  <thead>\n",
              "    <tr style=\"text-align: right;\">\n",
              "      <th></th>\n",
              "      <th>test_id</th>\n",
              "      <th>question1</th>\n",
              "      <th>question2</th>\n",
              "    </tr>\n",
              "  </thead>\n",
              "  <tbody>\n",
              "    <tr>\n",
              "      <th>0</th>\n",
              "      <td>0</td>\n",
              "      <td>How does the Surface Pro himself 4 compare wit...</td>\n",
              "      <td>Why did Microsoft choose core m3 and not core ...</td>\n",
              "    </tr>\n",
              "    <tr>\n",
              "      <th>1</th>\n",
              "      <td>1</td>\n",
              "      <td>Should I have a hair transplant at age 24? How...</td>\n",
              "      <td>How much cost does hair transplant require?</td>\n",
              "    </tr>\n",
              "    <tr>\n",
              "      <th>2</th>\n",
              "      <td>2</td>\n",
              "      <td>What but is the best way to send money from Ch...</td>\n",
              "      <td>What you send money to China?</td>\n",
              "    </tr>\n",
              "    <tr>\n",
              "      <th>3</th>\n",
              "      <td>3</td>\n",
              "      <td>Which food not emulsifiers?</td>\n",
              "      <td>What foods fibre?</td>\n",
              "    </tr>\n",
              "    <tr>\n",
              "      <th>4</th>\n",
              "      <td>4</td>\n",
              "      <td>How \"aberystwyth\" start reading?</td>\n",
              "      <td>How their can I start reading?</td>\n",
              "    </tr>\n",
              "  </tbody>\n",
              "</table>\n",
              "</div>"
            ],
            "text/plain": [
              "   test_id  ...                                          question2\n",
              "0        0  ...  Why did Microsoft choose core m3 and not core ...\n",
              "1        1  ...        How much cost does hair transplant require?\n",
              "2        2  ...                      What you send money to China?\n",
              "3        3  ...                                  What foods fibre?\n",
              "4        4  ...                     How their can I start reading?\n",
              "\n",
              "[5 rows x 3 columns]"
            ]
          },
          "metadata": {
            "tags": []
          },
          "execution_count": 7
        }
      ]
    },
    {
      "cell_type": "code",
      "metadata": {
        "id": "pAJpHhz_HSPD",
        "colab_type": "code",
        "colab": {
          "base_uri": "https://localhost:8080/",
          "height": 451
        },
        "outputId": "cdb7f6f6-5239-47ef-b35f-605feb568b4b"
      },
      "source": [
        "#class imbalance\n",
        "print (train.groupby(\"is_duplicate\")['id'].count())\n",
        "ids = pd.Series(train['qid1'].tolist() + train['qid2'].tolist())\n",
        "#unique ids\n",
        "print (len(np.unique(ids)))\n",
        "plt.figure(figsize=(5, 5))\n",
        "plt.hist(ids.value_counts(), bins=200)\n",
        "plt.yscale('log')\n",
        "plt.title('Histogram showing question appearence frequencies')\n",
        "plt.xlabel('Total Number of occurences of question')\n",
        "plt.ylabel('Total Number of questions')\n",
        "#Max number of times a question has appeared\n",
        "print (max(ids.value_counts()))\n",
        "\n",
        "plt.bar([0, 1], [255027, 149263])\n",
        "plt.show()"
      ],
      "execution_count": null,
      "outputs": [
        {
          "output_type": "stream",
          "text": [
            "is_duplicate\n",
            "0    255027\n",
            "1    149263\n",
            "Name: id, dtype: int64\n",
            "537933\n",
            "157\n"
          ],
          "name": "stdout"
        },
        {
          "output_type": "display_data",
          "data": {
            "image/png": "[encoded data removed]",
            "text/plain": [
              "<Figure size 360x360 with 1 Axes>"
            ]
          },
          "metadata": {
            "tags": [],
            "needs_background": "light"
          }
        }
      ]
    },
    {
      "cell_type": "code",
      "metadata": {
        "id": "zSU4xkW7g_Ek",
        "colab_type": "code",
        "colab": {
          "base_uri": "https://localhost:8080/",
          "height": 294
        },
        "outputId": "b1035e21-0423-45fe-8af8-17c2eea838a4"
      },
      "source": [
        "train.groupby(\"is_duplicate\")['id'].count().plot.bar()"
      ],
      "execution_count": null,
      "outputs": [
        {
          "output_type": "execute_result",
          "data": {
            "text/plain": [
              "<matplotlib.axes._subplots.AxesSubplot at 0x7f5ee5612470>"
            ]
          },
          "metadata": {
            "tags": []
          },
          "execution_count": 9
        },
        {
          "output_type": "display_data",
          "data": {
            "image/png": "[encoded data removed]",
            "text/plain": [
              "<Figure size 432x288 with 1 Axes>"
            ]
          },
          "metadata": {
            "tags": [],
            "needs_background": "light"
          }
        }
      ]
    },
    {
      "cell_type": "code",
      "metadata": {
        "id": "aopY16X1aZNo",
        "colab_type": "code",
        "colab": {
          "base_uri": "https://localhost:8080/",
          "height": 195
        },
        "outputId": "8eb69eec-838a-49f2-e41f-74b8a538d63a"
      },
      "source": [
        "train['length_q1'] = train['question1'].str.len() \n",
        "train['length_q2'] = train['question2'].str.len()\n",
        "\n",
        "train.head()"
      ],
      "execution_count": null,
      "outputs": [
        {
          "output_type": "execute_result",
          "data": {
            "text/html": [
              "<div>\n",
              "<style scoped>\n",
              "    .dataframe tbody tr th:only-of-type {\n",
              "        vertical-align: middle;\n",
              "    }\n",
              "\n",
              "    .dataframe tbody tr th {\n",
              "        vertical-align: top;\n",
              "    }\n",
              "\n",
              "    .dataframe thead th {\n",
              "        text-align: right;\n",
              "    }\n",
              "</style>\n",
              "<table border=\"1\" class=\"dataframe\">\n",
              "  <thead>\n",
              "    <tr style=\"text-align: right;\">\n",
              "      <th></th>\n",
              "      <th>id</th>\n",
              "      <th>qid1</th>\n",
              "      <th>qid2</th>\n",
              "      <th>question1</th>\n",
              "      <th>question2</th>\n",
              "      <th>is_duplicate</th>\n",
              "      <th>length_q1</th>\n",
              "      <th>length_q2</th>\n",
              "    </tr>\n",
              "  </thead>\n",
              "  <tbody>\n",
              "    <tr>\n",
              "      <th>0</th>\n",
              "      <td>0</td>\n",
              "      <td>1</td>\n",
              "      <td>2</td>\n",
              "      <td>What is the step by step guide to invest in sh...</td>\n",
              "      <td>What is the step by step guide to invest in sh...</td>\n",
              "      <td>0</td>\n",
              "      <td>66</td>\n",
              "      <td>57</td>\n",
              "    </tr>\n",
              "    <tr>\n",
              "      <th>1</th>\n",
              "      <td>1</td>\n",
              "      <td>3</td>\n",
              "      <td>4</td>\n",
              "      <td>What is the story of Kohinoor (Koh-i-Noor) Dia...</td>\n",
              "      <td>What would happen if the Indian government sto...</td>\n",
              "      <td>0</td>\n",
              "      <td>51</td>\n",
              "      <td>88</td>\n",
              "    </tr>\n",
              "    <tr>\n",
              "      <th>2</th>\n",
              "      <td>2</td>\n",
              "      <td>5</td>\n",
              "      <td>6</td>\n",
              "      <td>How can I increase the speed of my internet co...</td>\n",
              "      <td>How can Internet speed be increased by hacking...</td>\n",
              "      <td>0</td>\n",
              "      <td>73</td>\n",
              "      <td>59</td>\n",
              "    </tr>\n",
              "    <tr>\n",
              "      <th>3</th>\n",
              "      <td>3</td>\n",
              "      <td>7</td>\n",
              "      <td>8</td>\n",
              "      <td>Why am I mentally very lonely? How can I solve...</td>\n",
              "      <td>Find the remainder when [math]23^{24}[/math] i...</td>\n",
              "      <td>0</td>\n",
              "      <td>50</td>\n",
              "      <td>65</td>\n",
              "    </tr>\n",
              "    <tr>\n",
              "      <th>4</th>\n",
              "      <td>4</td>\n",
              "      <td>9</td>\n",
              "      <td>10</td>\n",
              "      <td>Which one dissolve in water quikly sugar, salt...</td>\n",
              "      <td>Which fish would survive in salt water?</td>\n",
              "      <td>0</td>\n",
              "      <td>76</td>\n",
              "      <td>39</td>\n",
              "    </tr>\n",
              "  </tbody>\n",
              "</table>\n",
              "</div>"
            ],
            "text/plain": [
              "   id  qid1  qid2  ... is_duplicate length_q1  length_q2\n",
              "0   0     1     2  ...            0        66         57\n",
              "1   1     3     4  ...            0        51         88\n",
              "2   2     5     6  ...            0        73         59\n",
              "3   3     7     8  ...            0        50         65\n",
              "4   4     9    10  ...            0        76         39\n",
              "\n",
              "[5 rows x 8 columns]"
            ]
          },
          "metadata": {
            "tags": []
          },
          "execution_count": 10
        }
      ]
    },
    {
      "cell_type": "code",
      "metadata": {
        "id": "XTjjuDSkfaPa",
        "colab_type": "code",
        "colab": {
          "base_uri": "https://localhost:8080/",
          "height": 195
        },
        "outputId": "b090c20e-27a8-410f-8ba2-babe3b947ae0"
      },
      "source": [
        "train['words_q1'] = train['question1'].apply(lambda row: len(row.split(\" \")))\n",
        "train['words_q2'] = train['question2'].apply(lambda row: len(row.split(\" \")))\n",
        "train.head()"
      ],
      "execution_count": null,
      "outputs": [
        {
          "output_type": "execute_result",
          "data": {
            "text/html": [
              "<div>\n",
              "<style scoped>\n",
              "    .dataframe tbody tr th:only-of-type {\n",
              "        vertical-align: middle;\n",
              "    }\n",
              "\n",
              "    .dataframe tbody tr th {\n",
              "        vertical-align: top;\n",
              "    }\n",
              "\n",
              "    .dataframe thead th {\n",
              "        text-align: right;\n",
              "    }\n",
              "</style>\n",
              "<table border=\"1\" class=\"dataframe\">\n",
              "  <thead>\n",
              "    <tr style=\"text-align: right;\">\n",
              "      <th></th>\n",
              "      <th>id</th>\n",
              "      <th>qid1</th>\n",
              "      <th>qid2</th>\n",
              "      <th>question1</th>\n",
              "      <th>question2</th>\n",
              "      <th>is_duplicate</th>\n",
              "      <th>length_q1</th>\n",
              "      <th>length_q2</th>\n",
              "      <th>words_q1</th>\n",
              "      <th>words_q2</th>\n",
              "    </tr>\n",
              "  </thead>\n",
              "  <tbody>\n",
              "    <tr>\n",
              "      <th>0</th>\n",
              "      <td>0</td>\n",
              "      <td>1</td>\n",
              "      <td>2</td>\n",
              "      <td>What is the step by step guide to invest in sh...</td>\n",
              "      <td>What is the step by step guide to invest in sh...</td>\n",
              "      <td>0</td>\n",
              "      <td>66</td>\n",
              "      <td>57</td>\n",
              "      <td>14</td>\n",
              "      <td>12</td>\n",
              "    </tr>\n",
              "    <tr>\n",
              "      <th>1</th>\n",
              "      <td>1</td>\n",
              "      <td>3</td>\n",
              "      <td>4</td>\n",
              "      <td>What is the story of Kohinoor (Koh-i-Noor) Dia...</td>\n",
              "      <td>What would happen if the Indian government sto...</td>\n",
              "      <td>0</td>\n",
              "      <td>51</td>\n",
              "      <td>88</td>\n",
              "      <td>8</td>\n",
              "      <td>13</td>\n",
              "    </tr>\n",
              "    <tr>\n",
              "      <th>2</th>\n",
              "      <td>2</td>\n",
              "      <td>5</td>\n",
              "      <td>6</td>\n",
              "      <td>How can I increase the speed of my internet co...</td>\n",
              "      <td>How can Internet speed be increased by hacking...</td>\n",
              "      <td>0</td>\n",
              "      <td>73</td>\n",
              "      <td>59</td>\n",
              "      <td>14</td>\n",
              "      <td>10</td>\n",
              "    </tr>\n",
              "    <tr>\n",
              "      <th>3</th>\n",
              "      <td>3</td>\n",
              "      <td>7</td>\n",
              "      <td>8</td>\n",
              "      <td>Why am I mentally very lonely? How can I solve...</td>\n",
              "      <td>Find the remainder when [math]23^{24}[/math] i...</td>\n",
              "      <td>0</td>\n",
              "      <td>50</td>\n",
              "      <td>65</td>\n",
              "      <td>11</td>\n",
              "      <td>9</td>\n",
              "    </tr>\n",
              "    <tr>\n",
              "      <th>4</th>\n",
              "      <td>4</td>\n",
              "      <td>9</td>\n",
              "      <td>10</td>\n",
              "      <td>Which one dissolve in water quikly sugar, salt...</td>\n",
              "      <td>Which fish would survive in salt water?</td>\n",
              "      <td>0</td>\n",
              "      <td>76</td>\n",
              "      <td>39</td>\n",
              "      <td>13</td>\n",
              "      <td>7</td>\n",
              "    </tr>\n",
              "  </tbody>\n",
              "</table>\n",
              "</div>"
            ],
            "text/plain": [
              "   id  qid1  qid2  ... length_q2 words_q1  words_q2\n",
              "0   0     1     2  ...        57       14        12\n",
              "1   1     3     4  ...        88        8        13\n",
              "2   2     5     6  ...        59       14        10\n",
              "3   3     7     8  ...        65       11         9\n",
              "4   4     9    10  ...        39       13         7\n",
              "\n",
              "[5 rows x 10 columns]"
            ]
          },
          "metadata": {
            "tags": []
          },
          "execution_count": 11
        }
      ]
    },
    {
      "cell_type": "code",
      "metadata": {
        "id": "qgsFkFW_iOXu",
        "colab_type": "code",
        "colab": {}
      },
      "source": [
        "from sklearn.preprocessing import StandardScaler\n",
        "combine  = pd.concat([train[['question1', 'question2']], test[['question1', 'question2']]], axis=0).reset_index(drop='index')\n",
        "combine.head()\n",
        "from collections import defaultdict\n",
        "dictionary = defaultdict(set)\n",
        "for i in range(combine.shape[0]):\n",
        "        dictionary[combine.question1[i]].add(combine.question2[i])\n",
        "        dictionary[combine.question2[i]].add(combine.question1[i])\n",
        "\n",
        "def similar_words(row):\n",
        "    w1 = set(map(lambda word: word.lower().strip(), row['question1'].split(\" \")))\n",
        "    w2 = set(map(lambda word: word.lower().strip(), row['question2'].split(\" \")))    \n",
        "    return 1.0 * len(w1 & w2)/(len(w1) + len(w2))        \n",
        "def netq1_f(row):\n",
        "    return(len(dictionary[row['question1']]))    \n",
        "def netq2_f(row):\n",
        "    return(len(dictionary[row['question2']]))    \n",
        "def netpair_f(row):\n",
        "    return(len(set(dictionary[row['question1']]).intersection(set(dictionary[row['question2']]))))\n",
        "train['similar_word'] = train.apply(similar_words, axis=1)\n",
        "train['netpair_f'] = train.apply(netpair_f, axis=1, raw=True)\n",
        "train['netq1_f'] = train.apply(netq1_f, axis=1, raw=True)\n",
        "train['netq2_f'] = train.apply(netq2_f, axis=1, raw=True)\n",
        "\n",
        "test['netpair_f'] = test.apply(netpair_f, axis=1, raw=True)\n",
        "test['netq1_f'] = test.apply(netq1_f, axis=1, raw=True)\n",
        "test['netq2_f'] = test.apply(netq2_f, axis=1, raw=True)\n",
        "test['similar_word'] = test.apply(similar_words,axis = 1)\n",
        "train_extra = train[[ 'netq1_f', 'netq2_f','netpair_f','similar_word']]\n",
        "test_extra = test[[ 'netq1_f', 'netq2_f','netpair_f','similar_word']]\n",
        "scaling = StandardScaler()\n",
        "scaling.fit(np.vstack((train_extra, test_extra)))\n",
        "train_extra = scaling.transform(train_extra)\n",
        "test_extra = scaling.transform(test_extra)"
      ],
      "execution_count": null,
      "outputs": []
    },
    {
      "cell_type": "markdown",
      "metadata": {
        "id": "WpIZ0CQxNIiL",
        "colab_type": "text"
      },
      "source": [
        "Processing of Data"
      ]
    },
    {
      "cell_type": "code",
      "metadata": {
        "colab_type": "code",
        "id": "3xB94IeiZczQ",
        "colab": {}
      },
      "source": [
        "from nltk.stem import PorterStemmer\n",
        "import re"
      ],
      "execution_count": null,
      "outputs": []
    },
    {
      "cell_type": "code",
      "metadata": {
        "id": "ElxXuaKeUgoP",
        "colab_type": "code",
        "colab": {}
      },
      "source": [
        "#Stopwords were not removed because they might have crucial info as we are dealing with questions in the context\n",
        "def text_to_word(text):\n",
        "\n",
        "    text = str(text)\n",
        "    text = text.lower()\n",
        "    text = re.sub(r\"[^A-Za-z0-9]\", \" \", text)\n",
        "    text = re.sub(r\"what's\", \"\", text)\n",
        "    text = re.sub(r\"What's\", \"\", text)\n",
        "    text = re.sub(r\"\\'s\", \" \", text)\n",
        "    text = re.sub(r\"\\'ve\", \" have \", text)\n",
        "    text = re.sub(r\"can't\", \"cannot \", text)\n",
        "    text = re.sub(r\"n't\", \" not \", text)\n",
        "    text = re.sub(r\"I'm\", \"I am\", text)\n",
        "    text = re.sub(r\" m \", \" am \", text)\n",
        "    text = re.sub(r\"\\'re\", \" are \", text)\n",
        "    text = re.sub(r\"\\'d\", \" would \", text)\n",
        "    text = re.sub(r\"\\'ll\", \" will \", text)\n",
        "    text = re.sub(r\"60k\", \" 60000 \", text)\n",
        "    text = re.sub(r\" e g \", \" eg \", text)\n",
        "    text = re.sub(r\" b g \", \" bg \", text)\n",
        "    text = re.sub(r\"\\0s\", \"0\", text)\n",
        "    text = re.sub(r\" 9 11 \", \"911\", text)\n",
        "\n",
        "    ps = PorterStemmer()\n",
        "    text = text.split()\n",
        "    stemmed_words = [ps.stem(word) for word in text]\n",
        "    text = \" \".join(stemmed_words)\n",
        "    \n",
        "    return(text)"
      ],
      "execution_count": null,
      "outputs": []
    },
    {
      "cell_type": "code",
      "metadata": {
        "id": "JvYc3vBpWEga",
        "colab_type": "code",
        "colab": {}
      },
      "source": [
        "#cleaning data\n",
        "train_q1 = []\n",
        "train_q2 = []\n",
        "test_q1 = []\n",
        "test_q2 = []\n",
        "for item in train['question1']:\n",
        "  train_q1.append(text_to_word(item))\n",
        "for item in train['question2']:\n",
        "  train_q2.append(text_to_word(item))\n",
        "for item in test['question1']:\n",
        "  test_q1.append(text_to_word(item))\n",
        "for item in test['question2']:\n",
        "  test_q2.append(text_to_word(item))   \n"
      ],
      "execution_count": null,
      "outputs": []
    },
    {
      "cell_type": "code",
      "metadata": {
        "id": "N_Rhe6OM9FKS",
        "colab_type": "code",
        "colab": {
          "base_uri": "https://localhost:8080/",
          "height": 632
        },
        "outputId": "848446be-164c-4163-e220-2fd0c0b892c1"
      },
      "source": [
        "train['q1_clean'] = train_q1\n",
        "train['q2_clean'] = train_q2\n",
        "test['q1_clean'] = test_q1\n",
        "test['q2_clean'] = test_q2\n",
        "train.head()\n"
      ],
      "execution_count": null,
      "outputs": [
        {
          "output_type": "execute_result",
          "data": {
            "text/html": [
              "<div>\n",
              "<style scoped>\n",
              "    .dataframe tbody tr th:only-of-type {\n",
              "        vertical-align: middle;\n",
              "    }\n",
              "\n",
              "    .dataframe tbody tr th {\n",
              "        vertical-align: top;\n",
              "    }\n",
              "\n",
              "    .dataframe thead th {\n",
              "        text-align: right;\n",
              "    }\n",
              "</style>\n",
              "<table border=\"1\" class=\"dataframe\">\n",
              "  <thead>\n",
              "    <tr style=\"text-align: right;\">\n",
              "      <th></th>\n",
              "      <th>id</th>\n",
              "      <th>qid1</th>\n",
              "      <th>qid2</th>\n",
              "      <th>question1</th>\n",
              "      <th>question2</th>\n",
              "      <th>is_duplicate</th>\n",
              "      <th>length_q1</th>\n",
              "      <th>length_q2</th>\n",
              "      <th>words_q1</th>\n",
              "      <th>words_q2</th>\n",
              "      <th>similar_word</th>\n",
              "      <th>netpair_f</th>\n",
              "      <th>netq1_f</th>\n",
              "      <th>netq2_f</th>\n",
              "      <th>q1_clean</th>\n",
              "      <th>q2_clean</th>\n",
              "    </tr>\n",
              "  </thead>\n",
              "  <tbody>\n",
              "    <tr>\n",
              "      <th>0</th>\n",
              "      <td>0</td>\n",
              "      <td>1</td>\n",
              "      <td>2</td>\n",
              "      <td>What is the step by step guide to invest in sh...</td>\n",
              "      <td>What is the step by step guide to invest in sh...</td>\n",
              "      <td>0</td>\n",
              "      <td>66</td>\n",
              "      <td>57</td>\n",
              "      <td>14</td>\n",
              "      <td>12</td>\n",
              "      <td>0.434783</td>\n",
              "      <td>0</td>\n",
              "      <td>1</td>\n",
              "      <td>2</td>\n",
              "      <td>what is the step by step guid to invest in sha...</td>\n",
              "      <td>what is the step by step guid to invest in sha...</td>\n",
              "    </tr>\n",
              "    <tr>\n",
              "      <th>1</th>\n",
              "      <td>1</td>\n",
              "      <td>3</td>\n",
              "      <td>4</td>\n",
              "      <td>What is the story of Kohinoor (Koh-i-Noor) Dia...</td>\n",
              "      <td>What would happen if the Indian government sto...</td>\n",
              "      <td>0</td>\n",
              "      <td>51</td>\n",
              "      <td>88</td>\n",
              "      <td>8</td>\n",
              "      <td>13</td>\n",
              "      <td>0.200000</td>\n",
              "      <td>0</td>\n",
              "      <td>8</td>\n",
              "      <td>3</td>\n",
              "      <td>what is the stori of kohinoor koh i noor diamond</td>\n",
              "      <td>what would happen if the indian govern stole t...</td>\n",
              "    </tr>\n",
              "    <tr>\n",
              "      <th>2</th>\n",
              "      <td>2</td>\n",
              "      <td>5</td>\n",
              "      <td>6</td>\n",
              "      <td>How can I increase the speed of my internet co...</td>\n",
              "      <td>How can Internet speed be increased by hacking...</td>\n",
              "      <td>0</td>\n",
              "      <td>73</td>\n",
              "      <td>59</td>\n",
              "      <td>14</td>\n",
              "      <td>10</td>\n",
              "      <td>0.166667</td>\n",
              "      <td>0</td>\n",
              "      <td>2</td>\n",
              "      <td>1</td>\n",
              "      <td>how can i increas the speed of my internet con...</td>\n",
              "      <td>how can internet speed be increas by hack thro...</td>\n",
              "    </tr>\n",
              "    <tr>\n",
              "      <th>3</th>\n",
              "      <td>3</td>\n",
              "      <td>7</td>\n",
              "      <td>8</td>\n",
              "      <td>Why am I mentally very lonely? How can I solve...</td>\n",
              "      <td>Find the remainder when [math]23^{24}[/math] i...</td>\n",
              "      <td>0</td>\n",
              "      <td>50</td>\n",
              "      <td>65</td>\n",
              "      <td>11</td>\n",
              "      <td>9</td>\n",
              "      <td>0.000000</td>\n",
              "      <td>0</td>\n",
              "      <td>1</td>\n",
              "      <td>1</td>\n",
              "      <td>whi am i mental veri lone how can i solv it</td>\n",
              "      <td>find the remaind when math 23 24 math is divid...</td>\n",
              "    </tr>\n",
              "    <tr>\n",
              "      <th>4</th>\n",
              "      <td>4</td>\n",
              "      <td>9</td>\n",
              "      <td>10</td>\n",
              "      <td>Which one dissolve in water quikly sugar, salt...</td>\n",
              "      <td>Which fish would survive in salt water?</td>\n",
              "      <td>0</td>\n",
              "      <td>76</td>\n",
              "      <td>39</td>\n",
              "      <td>13</td>\n",
              "      <td>7</td>\n",
              "      <td>0.100000</td>\n",
              "      <td>0</td>\n",
              "      <td>3</td>\n",
              "      <td>1</td>\n",
              "      <td>which one dissolv in water quikli sugar salt m...</td>\n",
              "      <td>which fish would surviv in salt water</td>\n",
              "    </tr>\n",
              "  </tbody>\n",
              "</table>\n",
              "</div>"
            ],
            "text/plain": [
              "   id  ...                                           q2_clean\n",
              "0   0  ...  what is the step by step guid to invest in sha...\n",
              "1   1  ...  what would happen if the indian govern stole t...\n",
              "2   2  ...  how can internet speed be increas by hack thro...\n",
              "3   3  ...  find the remaind when math 23 24 math is divid...\n",
              "4   4  ...              which fish would surviv in salt water\n",
              "\n",
              "[5 rows x 16 columns]"
            ]
          },
          "metadata": {
            "tags": []
          },
          "execution_count": 16
        }
      ]
    },
    {
      "cell_type": "code",
      "metadata": {
        "id": "9Wbdm_wOZh5U",
        "colab_type": "code",
        "colab": {}
      },
      "source": [
        "#Tokenisation\n",
        "from keras.preprocessing.text import Tokenizer\n",
        "tokenizer = Tokenizer()\n",
        "tokenizer.fit_on_texts(train_q1+train_q2+test_q1+test_q2)\n",
        "train['q1_tokenised'] = tokenizer.texts_to_sequences(train['q1_clean'])\n",
        "train['q2_tokenised'] = tokenizer.texts_to_sequences(train['q2_clean'])\n",
        "test['q1_tokenised'] = tokenizer.texts_to_sequences(test['q1_clean'])\n",
        "test['q2_tokenised'] = tokenizer.texts_to_sequences(test['q2_clean'])\n",
        "\n"
      ],
      "execution_count": null,
      "outputs": []
    },
    {
      "cell_type": "code",
      "metadata": {
        "id": "k2Ol7eeyDku5",
        "colab_type": "code",
        "colab": {}
      },
      "source": [
        "#Apply padding\n",
        "from keras.preprocessing.sequence import pad_sequences\n",
        "q1_train_padded = pad_sequences(train['q1_tokenised'], maxlen=30)\n",
        "q2_train_padded = pad_sequences(train['q2_tokenised'], maxlen=30)\n",
        "q1_test_padded = pad_sequences(test['q1_tokenised'], maxlen=30)\n",
        "q2_test_padded = pad_sequences(test['q2_tokenised'], maxlen=30)\n"
      ],
      "execution_count": null,
      "outputs": []
    },
    {
      "cell_type": "code",
      "metadata": {
        "id": "C3k-c0FRYwXg",
        "colab_type": "code",
        "colab": {}
      },
      "source": [
        "#Data Augmentation\n",
        "final_train_q1 = np.vstack((q1_train_padded,q2_train_padded))\n",
        "final_train_q2 = np.vstack((q2_train_padded,q1_train_padded))\n",
        "final_train_extra = np.vstack((train_extra,train_extra))\n",
        "final_test_q1 = np.vstack((q1_test_padded,q2_test_padded))\n",
        "final_test_q2 = np.vstack((q2_test_padded,q1_test_padded))\n",
        "final_test_extra = np.vstack((test_extra,test_extra))"
      ],
      "execution_count": null,
      "outputs": []
    },
    {
      "cell_type": "code",
      "metadata": {
        "id": "qqlw2AukhnlB",
        "colab_type": "code",
        "colab": {}
      },
      "source": [
        "labels_train = np.concatenate((train['is_duplicate'], train['is_duplicate']))\n"
      ],
      "execution_count": null,
      "outputs": []
    },
    {
      "cell_type": "code",
      "metadata": {
        "id": "IpFlfVapaJGY",
        "colab_type": "code",
        "colab": {}
      },
      "source": [
        "#Embeddings Use this format for txt/vec file have glove and fasttext files for these\n",
        "embeddingfile = 'glove.6B.300d.txt'\n",
        "#embeddingfile = 'wiki-news-300d-1M.vec'\n",
        "embeddings_index = {}\n",
        "f = open(embeddingfile)\n",
        "count = 0\n",
        "for line in f:\n",
        "    values = line.split()\n",
        "    word = values[0]\n",
        "    coefs = np.asarray(values[1:], dtype='float32')\n",
        "    embeddings_index[word] = coefs\n",
        "f.close()\n",
        "\n",
        "\n",
        "#Embedding use this format for .bin file, for googlenews file use the code below\n",
        "\n",
        "#embeddingfile = 'GoogleNews-vectors-negative300.bin.gz'\n",
        "#embeddings_index = {}\n",
        "#from gensim.models import KeyedVectors\n",
        "#wv_from_bin = KeyedVectors.load_word2vec_format(EMBEDDING_FILE, binary=True) \n",
        "#for word, vector in zip(wv_from_bin.vocab, wv_from_bin.vectors):\n",
        "#    coefs = np.asarray(vector, dtype='float32')\n",
        "#    embeddings_index[word] = coefs"
      ],
      "execution_count": null,
      "outputs": []
    },
    {
      "cell_type": "code",
      "metadata": {
        "id": "8fWv2f9DcOhM",
        "colab_type": "code",
        "colab": {}
      },
      "source": [
        "a = np.max(final_test_q1.max())\n",
        "b = np.max(final_test_q2.max())\n",
        "c = np.max(final_train_q1.max())\n",
        "d = np.max(final_train_q2.max())\n",
        "Total_words = max(a,b,c,d)\n",
        "\n",
        "nb_words = min(Total_words, len(tokenizer.word_index))+1\n",
        "\n",
        "embedding_matrix = np.zeros((nb_words, 300))\n",
        "for word, i in tokenizer.word_index.items():\n",
        "    embedding_vector = embeddings_index.get(word)\n",
        "\n",
        "    if embedding_vector is not None:\n",
        "        embedding_matrix[i] = embedding_vector"
      ],
      "execution_count": null,
      "outputs": []
    },
    {
      "cell_type": "code",
      "metadata": {
        "id": "OhlDbmVC10y6",
        "colab_type": "code",
        "colab": {}
      },
      "source": [
        "def recall_m(y_true, y_pred):\n",
        "    true_positives = K.sum(K.round(K.clip(y_true * y_pred, 0, 1)))\n",
        "    possible_positives = K.sum(K.round(K.clip(y_true, 0, 1)))\n",
        "    recall = true_positives / (possible_positives + K.epsilon())\n",
        "    return recall\n",
        "\n",
        "def precision_m(y_true, y_pred):\n",
        "    true_positives = K.sum(K.round(K.clip(y_true * y_pred, 0, 1)))\n",
        "    predicted_positives = K.sum(K.round(K.clip(y_pred, 0, 1)))\n",
        "    precision = true_positives / (predicted_positives + K.epsilon())\n",
        "    return precision\n",
        "\n",
        "def f1_m(y_true, y_pred):\n",
        "    precision = precision_m(y_true, y_pred)\n",
        "    recall = recall_m(y_true, y_pred)\n",
        "    return 2*((precision*recall)/(precision+recall+K.epsilon()))"
      ],
      "execution_count": null,
      "outputs": []
    },
    {
      "cell_type": "code",
      "metadata": {
        "id": "gDeWPuwgw86H",
        "colab_type": "code",
        "colab": {}
      },
      "source": [
        "#MaLSTM model\n",
        "embedding_layer = Embedding(nb_words,300,weights=[embedding_matrix],input_length=30,trainable=False)\n",
        "lstm = LSTM(200)\n",
        "q1 = Input(shape=(30,),)\n",
        "q2 = Input(shape=(30,),)\n",
        "a1 = embedding_layer(q1)\n",
        "a2 = embedding_layer(q2)\n",
        "x1 = lstm(a1)\n",
        "x2 = lstm(a2)\n",
        "def exponential_negative_manhattan_distance(left, right):\n",
        "     return K.exp(-K.sum(K.abs(left-right), axis=1, keepdims=True))\n",
        "d = Lambda(function=lambda x: exponential_negative_manhattan_distance(x[0], x[1]),output_shape=lambda x: (x[0][0], 1))([x1, x2])"
      ],
      "execution_count": null,
      "outputs": []
    },
    {
      "cell_type": "code",
      "metadata": {
        "id": "ARE6znEGrUmO",
        "colab_type": "code",
        "colab": {}
      },
      "source": [
        "#Siamese model\n",
        "embedding_layer = Embedding(nb_words,300,weights=[embedding_matrix],input_length=30,trainable=False)\n",
        "lstm = LSTM(200)\n",
        "q1 = Input(shape=(30,),)\n",
        "q2 = Input(shape=(30,),)\n",
        "a1 = embedding_layer(q1)\n",
        "a2 = embedding_layer(q2)\n",
        "x1 = lstm(a1)\n",
        "x2 = lstm(a2)\n",
        "x = concatenate([x1,x2])\n",
        "x = BatchNormalization()(x)\n",
        "x = Dropout(0.2)(x)\n",
        "x = Dense(200, activation='relu')(x)\n",
        "x = BatchNormalization()(x)\n",
        "x = Dropout(0.2)(x)\n",
        "y_pred = Dense(1, activation='sigmoid')(x)"
      ],
      "execution_count": null,
      "outputs": []
    },
    {
      "cell_type": "code",
      "metadata": {
        "id": "uRsXzYDAr9tU",
        "colab_type": "code",
        "colab": {}
      },
      "source": [
        "embedding_layer = Embedding(nb_words,300,weights=[embedding_matrix],input_length=30,trainable=False)\n",
        "q1 = Input(shape=(30,),)\n",
        "q2 = Input(shape=(30,),)\n",
        "e = Input(shape=(final_train_extra.shape[1],))\n",
        "a1 = embedding_layer(q1)\n",
        "a2 = embedding_layer(q2)\n",
        "#w1 = LSTM(200, return_sequences=True)(a1)\n",
        "w1 = Bidirectional(LSTM(200, return_sequences=True),name ='BiLSTM1')(a1)\n",
        "#w2 = LSTM(200, return_sequences=True)(a2)\n",
        "w2 = Bidirectional(LSTM(200, return_sequences=True),name = 'BiLSTM2')(a2)\n",
        "#Align part\n",
        "F = Dot(axes=-1)([w1, w2])\n",
        "alpha_attention = Lambda(lambda x: softmax(x, axis=1))(F)\n",
        "beta_attention = Permute((2,1))(Lambda(lambda x: softmax(x, axis=2))(F))\n",
        "alpha = Dot(axes=1)([alpha_attention, w1])\n",
        "beta = Dot(axes=1)([beta_attention, w2])\n",
        "alligned_phrase_1 = concatenate([w1, beta])\n",
        "alligned_phrase_2 = concatenate([w2, alpha]) \n",
        "G = LSTM(200, return_sequences=True)\n",
        "Va_i = G(alligned_phrase_1)\n",
        "Vb_i = G(alligned_phrase_2)\n",
        "p1 = GlobalAvgPool1D()\n",
        "p2 = GlobalAvgPool1D()\n",
        "Va = p1(Va_i)\n",
        "Vb = p2(Vb_i)\n",
        "#extra = Dense(200, activation='relu')(e)\n",
        "H = concatenate([Va, Vb])\n",
        "#H = concatenate([Va,Vb,extra])\n",
        "H = BatchNormalization()(H)\n",
        "H = Dense(1000, activation='relu')(H)\n",
        "H = Dropout(0.1)(H)\n",
        "H = BatchNormalization()(H)\n",
        "H = Dense(500, activation='relu')(H)\n",
        "H = Dropout(0.1)(H)\n",
        "H = BatchNormalization()(H)\n",
        "H = Dense(200, activation='relu')(H)\n",
        "H = Dropout(0.1)(H)\n",
        "H = BatchNormalization()(H)\n",
        "\n",
        "y_pred = Dense(1, activation='sigmoid')(H)\n"
      ],
      "execution_count": null,
      "outputs": []
    },
    {
      "cell_type": "code",
      "metadata": {
        "id": "gKTROi_rgrh_",
        "colab_type": "code",
        "colab": {}
      },
      "source": [
        "#Use this for MaLSTM model\n",
        "model = Model([q1, q2], [d])\n",
        "early_stopping =EarlyStopping(monitor='val_loss', patience=10)\n",
        "model.compile(loss='binary_crossentropy', optimizer='adam', metrics=['acc',f1_m,precision_m, recall_m])\n",
        "Result = model.fit([final_train_q1, final_train_q2], labels_train,validation_split=0.2,batch_size = 10000,  epochs= 30, class_weight = {0: 1.309028344, 1: 0.472001959}, callbacks=[early_stopping])\n"
      ],
      "execution_count": null,
      "outputs": []
    },
    {
      "cell_type": "code",
      "metadata": {
        "id": "R2PH3ogOuxXp",
        "colab_type": "code",
        "colab": {
          "base_uri": "https://localhost:8080/",
          "height": 50
        },
        "outputId": "028819e5-515d-4e7b-afb4-36912e1fc10d"
      },
      "source": [
        "#Use this for Simaese and Decomposable attention \n",
        "model = Model([q1, q2], y_pred)\n",
        "early_stopping =EarlyStopping(monitor='val_loss', patience=10)\n",
        "model.compile(loss='binary_crossentropy', optimizer='adam', metrics=['acc',f1_m,precision_m, recall_m])\n",
        "Result = model.fit([final_train_q1, final_train_q2], labels_train,validation_split=0.2,batch_size = 10000,  epochs= 30,class_weight = {0: 1.309028344, 1: 0.472001959}, callbacks=[early_stopping])"
      ],
      "execution_count": null,
      "outputs": [
        {
          "output_type": "stream",
          "text": [
            "Train on 646864 samples, validate on 161716 samples\n",
            "Epoch 1/30\n"
          ],
          "name": "stdout"
        }
      ]
    },
    {
      "cell_type": "code",
      "metadata": {
        "colab_type": "code",
        "id": "SEQfeCWl_bQx",
        "colab": {}
      },
      "source": [
        "#Use this for Decomposable attention with extra features\n",
        "model = Model([q1, q2, e], y_pred)\n",
        "early_stopping =EarlyStopping(monitor='val_loss', patience=10)\n",
        "model.compile(loss='binary_crossentropy', optimizer='adam', metrics=['acc',f1_m,precision_m, recall_m])\n",
        "Result = model.fit([final_train_q1, final_train_q2,final_train_extra ], labels_train,validation_split=0.2,batch_size = 10000,  epochs= 30,class_weight = {0: 1.309028344, 1: 0.472001959})"
      ],
      "execution_count": null,
      "outputs": []
    },
    {
      "cell_type": "code",
      "metadata": {
        "id": "wYum-qP7CgYx",
        "colab_type": "code",
        "colab": {}
      },
      "source": [
        "plt.plot(Result.history['acc'])\n",
        "plt.plot(Result.history['val_acc'])\n",
        "plt.title('Model accuracy')\n",
        "plt.ylabel('Accuracy')\n",
        "plt.xlabel('Epoch')\n",
        "plt.legend(['Train', 'Test'], loc='upper left')\n",
        "plt.show()\n",
        "\n",
        "# Plot training & validation loss values\n",
        "plt.plot(Result.history['loss'])\n",
        "plt.plot(Result.history['val_loss'])\n",
        "plt.title('Model loss')\n",
        "plt.ylabel('Loss')\n",
        "plt.xlabel('Epoch')\n",
        "plt.legend(['Train', 'Test'], loc='upper left')\n",
        "plt.show()"
      ],
      "execution_count": null,
      "outputs": []
    },
    {
      "cell_type": "code",
      "metadata": {
        "id": "b-15Ti28s6LS",
        "colab_type": "code",
        "colab": {}
      },
      "source": [
        "prediction1 = model.predict([q1_test_padded, q2_test_padded],batch_size = 10000, verbose =1)\n",
        "prediction2 = model.predict([q2_test_padded, q1_test_padded],batch_size = 10000, verbose =1)\n",
        "prediction = (prediction1 + prediction2)/2"
      ],
      "execution_count": null,
      "outputs": []
    },
    {
      "cell_type": "code",
      "metadata": {
        "id": "_KNZ8tkMvRYz",
        "colab_type": "code",
        "colab": {}
      },
      "source": [
        "submission = pd.DataFrame({'test_id':np.arange(len(preds)), 'is_duplicate':prediction.ravel()})\n",
        "submission.to_csv('sample_submission.csv', index=False)"
      ],
      "execution_count": null,
      "outputs": []
    },
    {
      "cell_type": "code",
      "metadata": {
        "id": "HWf4S4yWEZYu",
        "colab_type": "code",
        "colab": {}
      },
      "source": [
        "pip install scikit-plot\n",
        "y_predict = np.where(prediction > 0.5, 1, 0)\n",
        "import scikitplot as skplt \n",
        "skplt.metrics.plot_confusion_matrix( labels,y_predict, normalize=True)"
      ],
      "execution_count": null,
      "outputs": []
    },
    {
      "cell_type": "code",
      "metadata": {
        "id": "9rkk0R3l1CAT",
        "colab_type": "code",
        "colab": {}
      },
      "source": [
        "from keras.utils import plot_model\n",
        "plot_model(model,to_file=\"model.png\")\n",
        "from IPython.display import Image\n",
        "Image(filename='model.png')\n"
      ],
      "execution_count": null,
      "outputs": []
    }
  ]
}